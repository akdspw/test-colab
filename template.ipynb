{
  "nbformat": 4,
  "nbformat_minor": 0,
  "metadata": {
    "colab": {
      "name": "Intro.ipynb",
      "provenance": [],
      "collapsed_sections": [],
      "toc_visible": true,
      "authorship_tag": "ABX9TyNT2MpokjDapED6HFuYeF4Y",
      "include_colab_link": true
    },
    "kernelspec": {
      "name": "python3",
      "display_name": "Python 3"
    }
  },
  "cells": [
    {
      "cell_type": "markdown",
      "metadata": {
        "id": "view-in-github",
        "colab_type": "text"
      },
      "source": [
        "<a href=\"https://colab.research.google.com/github/akdspw/test-colab/blob/main/template.ipynb\" target=\"_parent\"><img src=\"https://colab.research.google.com/assets/colab-badge.svg\" alt=\"Open In Colab\"/></a>"
      ]
    },
    {
      "cell_type": "markdown",
      "metadata": {
        "id": "1qL_QjGpRzwM"
      },
      "source": [
        "## Sales"
      ]
    },
    {
      "cell_type": "code",
      "metadata": {
        "id": "rJoaR_ALRff6",
        "outputId": "d1d0de58-8797-4da1-b80a-f96ab012f5fd",
        "colab": {
          "base_uri": "https://localhost:8080/"
        }
      },
      "source": [
        "revenue = 10000\n",
        "tax = 0.19\n",
        "income = revenue * tax\n",
        "income"
      ],
      "execution_count": 1,
      "outputs": [
        {
          "output_type": "execute_result",
          "data": {
            "text/plain": [
              "1900.0"
            ]
          },
          "metadata": {
            "tags": []
          },
          "execution_count": 1
        }
      ]
    },
    {
      "cell_type": "code",
      "metadata": {
        "id": "bGCPim8YRmWL",
        "outputId": "87074b37-c45a-4666-a4f8-ffc2a9942d5c",
        "colab": {
          "base_uri": "https://localhost:8080/"
        }
      },
      "source": [
        "print(income)"
      ],
      "execution_count": 2,
      "outputs": [
        {
          "output_type": "stream",
          "text": [
            "1900.0\n"
          ],
          "name": "stdout"
        }
      ]
    },
    {
      "cell_type": "code",
      "metadata": {
        "id": "JFOMyTsBRtw1"
      },
      "source": [
        ""
      ],
      "execution_count": null,
      "outputs": []
    },
    {
      "cell_type": "markdown",
      "metadata": {
        "id": "b7frHCxiR75s"
      },
      "source": [
        "## Summary"
      ]
    },
    {
      "cell_type": "code",
      "metadata": {
        "id": "QIGhnFDNR-21",
        "outputId": "58305a22-d4b4-417f-ade3-0d146246b8b2",
        "colab": {
          "base_uri": "https://localhost:8080/",
          "height": 35
        }
      },
      "source": [
        "import numpy as np\n",
        "np.__version__"
      ],
      "execution_count": 3,
      "outputs": [
        {
          "output_type": "execute_result",
          "data": {
            "application/vnd.google.colaboratory.intrinsic+json": {
              "type": "string"
            },
            "text/plain": [
              "'1.18.5'"
            ]
          },
          "metadata": {
            "tags": []
          },
          "execution_count": 3
        }
      ]
    },
    {
      "cell_type": "code",
      "metadata": {
        "id": "bk-StnoHSGYG"
      },
      "source": [
        "np.random.rand?"
      ],
      "execution_count": 4,
      "outputs": []
    },
    {
      "cell_type": "code",
      "metadata": {
        "id": "W4rOuq47SQmD",
        "outputId": "bbea8224-72fd-4355-ea35-5a9c9edf4c68",
        "colab": {
          "base_uri": "https://localhost:8080/",
          "height": 305
        }
      },
      "source": [
        "import imageai"
      ],
      "execution_count": 5,
      "outputs": [
        {
          "output_type": "error",
          "ename": "ModuleNotFoundError",
          "evalue": "ignored",
          "traceback": [
            "\u001b[0;31m---------------------------------------------------------------------------\u001b[0m",
            "\u001b[0;31mModuleNotFoundError\u001b[0m                       Traceback (most recent call last)",
            "\u001b[0;32m<ipython-input-5-2cf5b4bddf56>\u001b[0m in \u001b[0;36m<module>\u001b[0;34m()\u001b[0m\n\u001b[0;32m----> 1\u001b[0;31m \u001b[0;32mimport\u001b[0m \u001b[0mimageai\u001b[0m\u001b[0;34m\u001b[0m\u001b[0;34m\u001b[0m\u001b[0m\n\u001b[0m",
            "\u001b[0;31mModuleNotFoundError\u001b[0m: No module named 'imageai'",
            "",
            "\u001b[0;31m---------------------------------------------------------------------------\u001b[0;32m\nNOTE: If your import is failing due to a missing package, you can\nmanually install dependencies using either !pip or !apt.\n\nTo view examples of installing some common dependencies, click the\n\"Open Examples\" button below.\n\u001b[0;31m---------------------------------------------------------------------------\u001b[0m\n"
          ]
        }
      ]
    },
    {
      "cell_type": "code",
      "metadata": {
        "id": "AeYB15vNSUU9",
        "outputId": "5987376b-ed65-4c8c-9a42-cf63536bf08d",
        "colab": {
          "base_uri": "https://localhost:8080/"
        }
      },
      "source": [
        "!pip install imageai"
      ],
      "execution_count": 6,
      "outputs": [
        {
          "output_type": "stream",
          "text": [
            "Collecting imageai\n",
            "\u001b[?25l  Downloading https://files.pythonhosted.org/packages/09/99/4023e191a343fb23f01ae02ac57a5ca58037c310e8d8c62f87638a3bafc7/imageai-2.1.5-py3-none-any.whl (180kB)\n",
            "\r\u001b[K     |█▉                              | 10kB 15.8MB/s eta 0:00:01\r\u001b[K     |███▋                            | 20kB 1.7MB/s eta 0:00:01\r\u001b[K     |█████▍                          | 30kB 2.3MB/s eta 0:00:01\r\u001b[K     |███████▎                        | 40kB 2.6MB/s eta 0:00:01\r\u001b[K     |█████████                       | 51kB 2.0MB/s eta 0:00:01\r\u001b[K     |██████████▉                     | 61kB 2.3MB/s eta 0:00:01\r\u001b[K     |████████████▊                   | 71kB 2.5MB/s eta 0:00:01\r\u001b[K     |██████████████▌                 | 81kB 2.7MB/s eta 0:00:01\r\u001b[K     |████████████████▎               | 92kB 2.9MB/s eta 0:00:01\r\u001b[K     |██████████████████▏             | 102kB 2.8MB/s eta 0:00:01\r\u001b[K     |████████████████████            | 112kB 2.8MB/s eta 0:00:01\r\u001b[K     |█████████████████████▊          | 122kB 2.8MB/s eta 0:00:01\r\u001b[K     |███████████████████████▋        | 133kB 2.8MB/s eta 0:00:01\r\u001b[K     |█████████████████████████▍      | 143kB 2.8MB/s eta 0:00:01\r\u001b[K     |███████████████████████████▏    | 153kB 2.8MB/s eta 0:00:01\r\u001b[K     |█████████████████████████████   | 163kB 2.8MB/s eta 0:00:01\r\u001b[K     |██████████████████████████████▉ | 174kB 2.8MB/s eta 0:00:01\r\u001b[K     |████████████████████████████████| 184kB 2.8MB/s \n",
            "\u001b[?25hRequirement already satisfied: numpy in /usr/local/lib/python3.6/dist-packages (from imageai) (1.18.5)\n",
            "Requirement already satisfied: scipy in /usr/local/lib/python3.6/dist-packages (from imageai) (1.4.1)\n",
            "Requirement already satisfied: matplotlib in /usr/local/lib/python3.6/dist-packages (from imageai) (3.2.2)\n",
            "Requirement already satisfied: pillow in /usr/local/lib/python3.6/dist-packages (from imageai) (7.0.0)\n",
            "Requirement already satisfied: h5py in /usr/local/lib/python3.6/dist-packages (from imageai) (2.10.0)\n",
            "Requirement already satisfied: cycler>=0.10 in /usr/local/lib/python3.6/dist-packages (from matplotlib->imageai) (0.10.0)\n",
            "Requirement already satisfied: kiwisolver>=1.0.1 in /usr/local/lib/python3.6/dist-packages (from matplotlib->imageai) (1.2.0)\n",
            "Requirement already satisfied: pyparsing!=2.0.4,!=2.1.2,!=2.1.6,>=2.0.1 in /usr/local/lib/python3.6/dist-packages (from matplotlib->imageai) (2.4.7)\n",
            "Requirement already satisfied: python-dateutil>=2.1 in /usr/local/lib/python3.6/dist-packages (from matplotlib->imageai) (2.8.1)\n",
            "Requirement already satisfied: six in /usr/local/lib/python3.6/dist-packages (from h5py->imageai) (1.15.0)\n",
            "Installing collected packages: imageai\n",
            "Successfully installed imageai-2.1.5\n"
          ],
          "name": "stdout"
        }
      ]
    },
    {
      "cell_type": "code",
      "metadata": {
        "id": "Qwu6ZOEpSXYG"
      },
      "source": [
        "import imageai"
      ],
      "execution_count": 7,
      "outputs": []
    },
    {
      "cell_type": "code",
      "metadata": {
        "id": "jdE8E623SZ2G"
      },
      "source": [
        ""
      ],
      "execution_count": null,
      "outputs": []
    },
    {
      "cell_type": "markdown",
      "metadata": {
        "id": "TU-esM-OShCj"
      },
      "source": [
        "### Examples of markdown"
      ]
    },
    {
      "cell_type": "markdown",
      "metadata": {
        "id": "urh5GaeNS9tm"
      },
      "source": [
        "Examples of *markdown*\n",
        "\n",
        "Examples of **markdown**\n",
        "\n",
        "Examples of __markdown__\n",
        "\n",
        "Examples of `markdown`\n",
        "\n",
        "```\n",
        "Examples of markdown\n",
        "```\n",
        "\n",
        "\n",
        "```\n",
        "# This is formatted as code\n",
        "```\n",
        "> Python\n",
        ">> Code\n",
        "\n",
        "An ordered list:\n",
        "1. One\n",
        "2. Two\n",
        "3. Three\n",
        "\n",
        "An Unordered list:\n",
        "* One\n",
        "* Two\n",
        "* Three\n"
      ]
    },
    {
      "cell_type": "markdown",
      "metadata": {
        "id": "qaGSbW5HUttp"
      },
      "source": [
        "[Google](https://www.google.com/)\n",
        "![Python](https://qph.fs.quoracdn.net/main-qimg-28cadbd02699c25a88e5c78d73c7babc)"
      ]
    },
    {
      "cell_type": "markdown",
      "metadata": {
        "id": "c9VR6eMXVmi4"
      },
      "source": [
        "$y = x^2$\n",
        "\n",
        "$\\frac{1}{n} \\sum_{i=1}^{n}{x_i}$\n",
        "\n",
        "$A = \\begin{pmatrix}\n",
        "a_{1, 1} & a_{1, 2} \\\\\n",
        "a_{2, 1} & a_{2, 2} \\end{pmatrix}$\n",
        "\n",
        "$A = \\begin{pmatrix}\n",
        "a_{11} & a_{12} \\\\\n",
        "a_{21} & a_{22} \\end{pmatrix}$\n",
        "\n",
        "$A = \\begin{matrix}\n",
        "a_{1, 1} & a_{1, 2} \\\\\n",
        "a_{2, 1} & a_{2, 2} \\end{matrix}$"
      ]
    },
    {
      "cell_type": "markdown",
      "metadata": {
        "id": "3_9OIFa6YoKe"
      },
      "source": [
        "col1 | sol2 | zol3\n",
        "---|--- | ---\n",
        "val1 | val2 | val3\n",
        "val2 | val3 | val5\n"
      ]
    },
    {
      "cell_type": "code",
      "metadata": {
        "id": "Om15mIIRSj8F"
      },
      "source": [
        ""
      ],
      "execution_count": null,
      "outputs": []
    }
  ]
}